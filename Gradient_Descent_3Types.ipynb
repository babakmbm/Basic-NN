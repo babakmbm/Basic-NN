{
 "cells": [
  {
   "cell_type": "code",
   "execution_count": 87,
   "metadata": {},
   "outputs": [],
   "source": [
    "import os\n",
    "import numpy as np\n",
    "import pandas as pd\n",
    "import matplotlib.pyplot as plt\n",
    "from sklearn.utils import shuffle\n",
    "from sklearn.decomposition import PCA\n",
    "from sklearn.linear_model import LogisticRegression\n",
    "from datetime import datetime"
   ]
  },
  {
   "cell_type": "code",
   "execution_count": 88,
   "metadata": {},
   "outputs": [],
   "source": [
    "def get_transformed_data():\n",
    "    print(\"Reading in and transforming data...\")\n",
    "\n",
    "    if not os.path.exists('Mnist/train.csv'):\n",
    "        print('Looking for Mnist/train.csv')\n",
    "        print('You have not downloaded the data and/or not placed the files in the correct location.')\n",
    "        print('Please get the data from: https://www.kaggle.com/c/digit-recognizer')\n",
    "        print('Place train.csv in the folder large_files adjacent to the class folder')\n",
    "        exit()\n",
    "\n",
    "    df = pd.read_csv('Mnist/train.csv')\n",
    "    data = df.values.astype(np.float32)\n",
    "    np.random.shuffle(data)\n",
    "\n",
    "    X = data[:, 1:]\n",
    "    Y = data[:, 0].astype(np.int32)\n",
    "\n",
    "    Xtrain = X[:-1000]\n",
    "    Ytrain = Y[:-1000]\n",
    "    Xtest  = X[-1000:]\n",
    "    Ytest  = Y[-1000:]\n",
    "\n",
    "    # center the data\n",
    "    mu = Xtrain.mean(axis=0)\n",
    "    Xtrain = Xtrain - mu\n",
    "    Xtest  = Xtest - mu\n",
    "\n",
    "    # transform the data\n",
    "    pca = PCA()\n",
    "    Ztrain = pca.fit_transform(Xtrain)\n",
    "    Ztest  = pca.transform(Xtest)\n",
    "    # take first 300 cols of Z\n",
    "    Ztrain = Ztrain[:, :300]\n",
    "    Ztest = Ztest[:, :300]\n",
    "    # normalize Z\n",
    "    mu = Ztrain.mean(axis=0)\n",
    "    std = Ztrain.std(axis=0)\n",
    "    Ztrain = (Ztrain - mu) / std\n",
    "    Ztest = (Ztest - mu) / std\n",
    "\n",
    "    return Ztrain, Ztest, Ytrain, Ytest"
   ]
  },
  {
   "cell_type": "code",
   "execution_count": 89,
   "metadata": {},
   "outputs": [],
   "source": [
    "def y2indicator(y):\n",
    "    N = len(y)\n",
    "    y = y.astype(np.int32)\n",
    "    ind = np.zeros((N, 10))\n",
    "    for i in range(N):\n",
    "        ind[i, y[i]] = 1\n",
    "    return ind"
   ]
  },
  {
   "cell_type": "code",
   "execution_count": 90,
   "metadata": {},
   "outputs": [],
   "source": [
    "def gradW(t, y, X):\n",
    "    return X.T.dot(t - y)\n",
    "\n",
    "def gradb(t, y):\n",
    "    return (t - y).sum(axis=0)\n",
    "\n",
    "def cost(p_y, t):\n",
    "    tot = t * np.log(p_y)\n",
    "    return -tot.sum()\n",
    "def predict(p_y):\n",
    "    return np.argmax(p_y, axis=1)\n",
    "\n",
    "def error_rate(p_y, t):\n",
    "    prediction = predict(p_y)\n",
    "    return np.mean(prediction != t)"
   ]
  },
  {
   "cell_type": "code",
   "execution_count": 91,
   "metadata": {},
   "outputs": [],
   "source": [
    "def forward(X, W, b):\n",
    "    # softmax\n",
    "    a = X.dot(W) + b\n",
    "    expa = np.exp(a)\n",
    "    y = expa / expa.sum(axis=1, keepdims=True)\n",
    "    return y"
   ]
  },
  {
   "cell_type": "code",
   "execution_count": 92,
   "metadata": {},
   "outputs": [
    {
     "name": "stdout",
     "output_type": "stream",
     "text": [
      "Reading in and transforming data...\n"
     ]
    }
   ],
   "source": [
    "Xtrain,Xtest,Ytrain,Ytest = get_transformed_data()"
   ]
  },
  {
   "cell_type": "code",
   "execution_count": 93,
   "metadata": {},
   "outputs": [
    {
     "name": "stdout",
     "output_type": "stream",
     "text": [
      "(1000, 10)\n"
     ]
    }
   ],
   "source": [
    "N,D = Xtrain.shape\n",
    "Ytrain_ind = y2indicator(Ytrain)\n",
    "Ytest_ind = y2indicator(Ytest)\n",
    "print(Ytest_ind.shape)"
   ]
  },
  {
   "cell_type": "code",
   "execution_count": 94,
   "metadata": {},
   "outputs": [
    {
     "name": "stdout",
     "output_type": "stream",
     "text": [
      "Cost at iteration 0: 895.349279\n",
      "Error rate: 0.177\n",
      "Cost at iteration 10: 387.239402\n",
      "Error rate: 0.097\n",
      "Cost at iteration 20: 345.590366\n",
      "Error rate: 0.094\n",
      "Cost at iteration 30: 327.886066\n",
      "Error rate: 0.091\n",
      "Cost at iteration 40: 317.792488\n",
      "Error rate: 0.092\n",
      "Final error rate: 0.093\n",
      "Elapsted time for full GD: 0:00:09.428551\n"
     ]
    }
   ],
   "source": [
    "# Full Gradient Descent\n",
    "W = np.random.randn(D,10) / 28\n",
    "b = np.zeros(10)\n",
    "LL = []\n",
    "lr = 0.0001\n",
    "reg = 0.01\n",
    "t0 = datetime.now()\n",
    "for i in range(50):\n",
    "    p_y = forward(Xtrain, W, b)\n",
    "    W += lr*(gradW(Ytrain_ind, p_y, Xtrain) - reg*W)\n",
    "    b += lr*(gradb(Ytrain_ind, p_y) - reg*b)\n",
    "    p_y_test = forward(Xtest, W, b)\n",
    "    ll = cost(p_y_test, Ytest_ind)\n",
    "    LL.append(ll)\n",
    "    if i % 1 == 0:\n",
    "        err = error_rate(p_y_test, Ytest)\n",
    "        if i % 10 == 0:\n",
    "            print(\"Cost at iteration %d: %.6f\" % (i, ll))\n",
    "            print(\"Error rate:\", err)\n",
    "p_y = forward(Xtest, W, b)\n",
    "print(\"Final error rate:\", error_rate(p_y, Ytest))\n",
    "print(\"Elapsted time for full GD:\", datetime.now() - t0)"
   ]
  },
  {
   "cell_type": "code",
   "execution_count": 95,
   "metadata": {},
   "outputs": [
    {
     "name": "stdout",
     "output_type": "stream",
     "text": [
      "Cost at iteration 0: 2754.104162\n",
      "Error rate: 0.892\n",
      "Cost at iteration 10: 2469.218996\n",
      "Error rate: 0.842\n",
      "Cost at iteration 20: 2213.878180\n",
      "Error rate: 0.761\n",
      "Cost at iteration 30: 1988.827439\n",
      "Error rate: 0.674\n",
      "Cost at iteration 40: 1795.554339\n",
      "Error rate: 0.574\n",
      "Final error rate: 0.487\n",
      "Elapsted time for SGD: 0:01:11.310369\n"
     ]
    }
   ],
   "source": [
    "# Stochastic Gradient Descent\n",
    "W = np.random.randn(D, 10) / np.sqrt(D)\n",
    "b = np.zeros(10)\n",
    "LL_stochastic = []\n",
    "lr = 0.0001\n",
    "reg = 0.01\n",
    "\n",
    "t0 = datetime.now()\n",
    "for i in range(50): # takes very long since we're computing cost for 41k samples\n",
    "    tmpX, tmpY = shuffle(Xtrain, Ytrain_ind)\n",
    "    for n in range(min(N, 500)): # shortcut so it won't take so long...\n",
    "        x = tmpX[n,:].reshape(1,D)\n",
    "        y = tmpY[n,:].reshape(1,10)\n",
    "        p_y = forward(x, W, b)\n",
    "\n",
    "        W += lr*(gradW(y, p_y, x) - reg*W)\n",
    "        b += lr*(gradb(y, p_y) - reg*b)\n",
    "\n",
    "        p_y_test = forward(Xtest, W, b)\n",
    "        ll = cost(p_y_test, Ytest_ind)\n",
    "        LL_stochastic.append(ll)\n",
    "\n",
    "    if i % 1 == 0:\n",
    "        err = error_rate(p_y_test, Ytest)\n",
    "        if i % 10 == 0:\n",
    "            print(\"Cost at iteration %d: %.6f\" % (i, ll))\n",
    "            print(\"Error rate:\", err)\n",
    "p_y = forward(Xtest, W, b)\n",
    "print(\"Final error rate:\", error_rate(p_y, Ytest))\n",
    "print(\"Elapsted time for SGD:\", datetime.now() - t0)"
   ]
  },
  {
   "cell_type": "code",
   "execution_count": 96,
   "metadata": {},
   "outputs": [
    {
     "name": "stdout",
     "output_type": "stream",
     "text": [
      "Cost at iteration 0: 1205.186768\n",
      "Error rate: 0.287\n",
      "Cost at iteration 10: 394.810540\n",
      "Error rate: 0.094\n",
      "Cost at iteration 20: 348.055770\n",
      "Error rate: 0.093\n",
      "Cost at iteration 30: 329.034073\n",
      "Error rate: 0.091\n",
      "Cost at iteration 40: 318.527751\n",
      "Error rate: 0.092\n",
      "Final error rate: 0.094\n",
      "Elapsted time for batch GD: 0:00:29.382966\n"
     ]
    }
   ],
   "source": [
    "# batch Gradient Decent\n",
    "W = np.random.randn(D, 10) / np.sqrt(D)\n",
    "b = np.zeros(10)\n",
    "LL_batch = []\n",
    "lr = 0.0001\n",
    "reg = 0.01\n",
    "batch_sz = 500\n",
    "n_batches = N // batch_sz\n",
    "\n",
    "t0 = datetime.now()\n",
    "for i in range(50):\n",
    "    tmpX, tmpY = shuffle(Xtrain, Ytrain_ind)\n",
    "    for j in range(n_batches):\n",
    "        x = tmpX[j*batch_sz:(j*batch_sz + batch_sz),:]\n",
    "        y = tmpY[j*batch_sz:(j*batch_sz + batch_sz),:]\n",
    "        p_y = forward(x, W, b)\n",
    "\n",
    "        W += lr*(gradW(y, p_y, x) - reg*W)\n",
    "        b += lr*(gradb(y, p_y) - reg*b)\n",
    "\n",
    "        p_y_test = forward(Xtest, W, b)\n",
    "        ll = cost(p_y_test, Ytest_ind)\n",
    "        LL_batch.append(ll)\n",
    "    if i % 1 == 0:\n",
    "        err = error_rate(p_y_test, Ytest)\n",
    "        if i % 10 == 0:\n",
    "            print(\"Cost at iteration %d: %.6f\" % (i, ll))\n",
    "            print(\"Error rate:\", err)\n",
    "p_y = forward(Xtest, W, b)\n",
    "print(\"Final error rate:\", error_rate(p_y, Ytest))\n",
    "print(\"Elapsted time for batch GD:\", datetime.now() - t0)"
   ]
  },
  {
   "cell_type": "code",
   "execution_count": null,
   "metadata": {},
   "outputs": [],
   "source": [
    "# Momentum Gradient Descent"
   ]
  },
  {
   "cell_type": "code",
   "execution_count": 97,
   "metadata": {},
   "outputs": [
    {
     "data": {
      "image/png": "[encoded data removed]",
      "text/plain": [
       "<Figure size 432x288 with 1 Axes>"
      ]
     },
     "metadata": {
      "needs_background": "light"
     },
     "output_type": "display_data"
    }
   ],
   "source": [
    "x1 = np.linspace(0, 1, len(LL))\n",
    "plt.plot(x1, LL, label=\"full\")\n",
    "x2 = np.linspace(0, 1, len(LL_stochastic))\n",
    "plt.plot(x2, LL_stochastic, label=\"stochastic\")\n",
    "x3 = np.linspace(0, 1, len(LL_batch))\n",
    "plt.plot(x3, LL_batch, label=\"batch\")\n",
    "plt.legend()\n",
    "plt.show()"
   ]
  }
 ],
 "metadata": {
  "kernelspec": {
   "display_name": "Python 3",
   "language": "python",
   "name": "python3"
  },
  "language_info": {
   "codemirror_mode": {
    "name": "ipython",
    "version": 3
   },
   "file_extension": ".py",
   "mimetype": "text/x-python",
   "name": "python",
   "nbconvert_exporter": "python",
   "pygments_lexer": "ipython3",
   "version": "3.7.1"
  }
 },
 "nbformat": 4,
 "nbformat_minor": 2
}
