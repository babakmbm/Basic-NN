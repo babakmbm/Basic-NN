{
 "cells": [
  {
   "cell_type": "code",
   "execution_count": 144,
   "metadata": {},
   "outputs": [],
   "source": [
    "from __future__ import print_function, division\n",
    "from builtins import range\n",
    "import numpy as np\n",
    "import tensorflow as tf\n",
    "import matplotlib.pyplot as plt\n",
    "import os\n",
    "import pandas as pd"
   ]
  },
  {
   "cell_type": "code",
   "execution_count": 145,
   "metadata": {
    "scrolled": true
   },
   "outputs": [],
   "source": [
    "# Error Rate between Targets and predictions\n",
    "def error_rate(p, t):\n",
    "    return np.mean(p != t)\n",
    "\n",
    "#Turns an N*1 Vector of targets into a indicator matrix\n",
    "def y2indicator(y):\n",
    "    N = len(y)\n",
    "    y = y.astype(np.int32)\n",
    "    ind = np.zeros((N, 10))\n",
    "    for i in range(N):\n",
    "        ind[i, y[i]] = 1\n",
    "    return ind"
   ]
  },
  {
   "cell_type": "code",
   "execution_count": 146,
   "metadata": {},
   "outputs": [],
   "source": [
    "def get_normalized_data():\n",
    "    print(\"Reading in and transforming data...\")\n",
    "\n",
    "    if not os.path.exists('Mnist/train.csv'):\n",
    "        print('Looking for Mnist/train.csv')\n",
    "        print('You have not downloaded the data and/or not placed the files in the correct location.')\n",
    "        print('Please get the data from: https://www.kaggle.com/c/digit-recognizer')\n",
    "        print('Place train.csv in the folder large_files adjacent to the class folder')\n",
    "        exit()\n",
    "\n",
    "    df = pd.read_csv('Mnist/train.csv')\n",
    "    data = df.values.astype(np.float32)\n",
    "    np.random.shuffle(data)\n",
    "    X = data[:, 1:]\n",
    "    Y = data[:, 0]\n",
    "\n",
    "    Xtrain = X[:-1000]\n",
    "    Ytrain = Y[:-1000]\n",
    "    Xtest  = X[-1000:]\n",
    "    Ytest  = Y[-1000:]\n",
    "\n",
    "    # normalize the data\n",
    "    mu = Xtrain.mean(axis=0)\n",
    "    std = Xtrain.std(axis=0)\n",
    "    np.place(std, std == 0, 1)\n",
    "    Xtrain = (Xtrain - mu) / std\n",
    "    Xtest = (Xtest - mu) / std\n",
    "    \n",
    "    return Xtrain, Xtest, Ytrain, Ytest"
   ]
  },
  {
   "cell_type": "code",
   "execution_count": 147,
   "metadata": {},
   "outputs": [
    {
     "name": "stdout",
     "output_type": "stream",
     "text": [
      "Reading in and transforming data...\n"
     ]
    }
   ],
   "source": [
    "Xtrain, Xtest, Ytrain, Ytest = get_normalized_data()"
   ]
  },
  {
   "cell_type": "code",
   "execution_count": 148,
   "metadata": {},
   "outputs": [],
   "source": [
    "max_iter = 15\n",
    "print_period = 50\n",
    "lr = 0.00004\n",
    "reg = 0.01\n",
    "Ytrain_ind = y2indicator(Ytrain)\n",
    "Ytest_ind = y2indicator(Ytest)\n",
    "N, D = Xtrain.shape\n",
    "batch_sz = 500\n",
    "n_batches = N//batch_sz\n",
    "M1 = 300\n",
    "M2 = 100\n",
    "K = 10\n",
    "W1_init = np.random.randn(D, M1) / 28\n",
    "b1_init = np.zeros(M1)\n",
    "W2_init = np.random.randn(M1, M2) / np.sqrt(M1)\n",
    "b2_init = np.zeros(M2)\n",
    "W3_init = np.random.randn(M2, K) / np.sqrt(M2)\n",
    "b3_init = np.zeros(K)"
   ]
  },
  {
   "cell_type": "code",
   "execution_count": 149,
   "metadata": {},
   "outputs": [],
   "source": [
    "X = tf.placeholder(tf.float32, shape = (None, D), name ='X')\n",
    "T = tf.placeholder(tf.float32, shape = (None, K), name = 'T')\n",
    "W1 = tf.Variable(W1_init.astype(np.float32))\n",
    "b1 = tf.Variable(b1_init.astype(np.float32))\n",
    "W2 = tf.Variable(W2_init.astype(np.float32))\n",
    "b2 = tf.Variable(b2_init.astype(np.float32))\n",
    "W3 = tf.Variable(W3_init.astype(np.float32))\n",
    "b3 = tf.Variable(b3_init.astype(np.float32))\n",
    "Z1 = tf.nn.relu(tf.matmul(X,W1) + b1)\n",
    "Z2 = tf.nn.relu(tf.matmul(Z1,W2) + b2)\n",
    "NotY = tf.matmul(Z2,W3) + b3\n",
    "cost = tf.reduce_sum(tf.nn.softmax_cross_entropy_with_logits_v2(logits=NotY, labels=T))"
   ]
  },
  {
   "cell_type": "code",
   "execution_count": 150,
   "metadata": {},
   "outputs": [],
   "source": [
    "train_op = tf.train.RMSPropOptimizer(lr, decay=0.99, momentum=0.9).minimize(cost)\n",
    "predict_op = tf.argmax(NotY, 1)"
   ]
  },
  {
   "cell_type": "code",
   "execution_count": 151,
   "metadata": {},
   "outputs": [
    {
     "name": "stdout",
     "output_type": "stream",
     "text": [
      "Cost / err at iteration i=0, j=0: 2378.800 / 0.882\n",
      "Cost / err at iteration i=0, j=50: 378.538 / 0.103\n",
      "Cost / err at iteration i=1, j=0: 282.758 / 0.080\n",
      "Cost / err at iteration i=1, j=50: 223.292 / 0.063\n",
      "Cost / err at iteration i=2, j=0: 198.585 / 0.053\n",
      "Cost / err at iteration i=2, j=50: 174.531 / 0.049\n",
      "Cost / err at iteration i=3, j=0: 163.354 / 0.044\n",
      "Cost / err at iteration i=3, j=50: 148.759 / 0.040\n",
      "Cost / err at iteration i=4, j=0: 143.601 / 0.038\n",
      "Cost / err at iteration i=4, j=50: 132.798 / 0.038\n",
      "Cost / err at iteration i=5, j=0: 130.869 / 0.033\n",
      "Cost / err at iteration i=5, j=50: 122.716 / 0.037\n",
      "Cost / err at iteration i=6, j=0: 122.845 / 0.033\n",
      "Cost / err at iteration i=6, j=50: 116.685 / 0.034\n",
      "Cost / err at iteration i=7, j=0: 117.874 / 0.032\n",
      "Cost / err at iteration i=7, j=50: 112.793 / 0.032\n",
      "Cost / err at iteration i=8, j=0: 114.814 / 0.033\n",
      "Cost / err at iteration i=8, j=50: 111.217 / 0.030\n",
      "Cost / err at iteration i=9, j=0: 113.840 / 0.032\n",
      "Cost / err at iteration i=9, j=50: 110.668 / 0.030\n",
      "Cost / err at iteration i=10, j=0: 112.502 / 0.029\n",
      "Cost / err at iteration i=10, j=50: 109.926 / 0.029\n",
      "Cost / err at iteration i=11, j=0: 111.088 / 0.029\n",
      "Cost / err at iteration i=11, j=50: 111.214 / 0.030\n",
      "Cost / err at iteration i=12, j=0: 111.863 / 0.028\n",
      "Cost / err at iteration i=12, j=50: 113.957 / 0.029\n",
      "Cost / err at iteration i=13, j=0: 114.757 / 0.028\n",
      "Cost / err at iteration i=13, j=50: 118.180 / 0.029\n",
      "Cost / err at iteration i=14, j=0: 121.358 / 0.030\n",
      "Cost / err at iteration i=14, j=50: 122.933 / 0.028\n"
     ]
    }
   ],
   "source": [
    "LL =[]\n",
    "init = tf.global_variables_initializer()\n",
    "with tf.Session() as session:\n",
    "    session.run(init)\n",
    "    \n",
    "    \n",
    "    for i in range(max_iter):\n",
    "        for j in range(n_batches):\n",
    "            Xbatch = Xtrain[j*batch_sz:(j*batch_sz + batch_sz),]\n",
    "            Ybatch = Ytrain_ind[j*batch_sz:(j*batch_sz + batch_sz),]\n",
    "\n",
    "            session.run(train_op, feed_dict={X: Xbatch, T: Ybatch})\n",
    "            if j % print_period == 0:\n",
    "                test_cost = session.run(cost, feed_dict={X: Xtest, T: Ytest_ind})\n",
    "                prediction = session.run(predict_op, feed_dict={X: Xtest})\n",
    "                err = error_rate(prediction, Ytest)\n",
    "                print(\"Cost / err at iteration i=%d, j=%d: %.3f / %.3f\" % (i, j, test_cost, err))\n",
    "                LL.append(test_cost)"
   ]
  },
  {
   "cell_type": "code",
   "execution_count": 152,
   "metadata": {},
   "outputs": [
    {
     "data": {
      "image/png": "[encoded data removed]",
      "text/plain": [
       "<Figure size 432x288 with 1 Axes>"
      ]
     },
     "metadata": {
      "needs_background": "light"
     },
     "output_type": "display_data"
    }
   ],
   "source": [
    "plt.plot(LL)\n",
    "plt.show()"
   ]
  }
 ],
 "metadata": {
  "kernelspec": {
   "display_name": "Python 3",
   "language": "python",
   "name": "python3"
  },
  "language_info": {
   "codemirror_mode": {
    "name": "ipython",
    "version": 3
   },
   "file_extension": ".py",
   "mimetype": "text/x-python",
   "name": "python",
   "nbconvert_exporter": "python",
   "pygments_lexer": "ipython3",
   "version": "3.7.1"
  }
 },
 "nbformat": 4,
 "nbformat_minor": 2
}
