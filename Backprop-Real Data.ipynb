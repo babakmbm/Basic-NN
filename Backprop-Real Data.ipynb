{
 "cells": [
  {
   "cell_type": "code",
   "execution_count": 153,
   "metadata": {},
   "outputs": [],
   "source": [
    "import numpy as np\n",
    "import pandas as pd\n",
    "import matplotlib.pyplot as plt\n",
    "from sklearn.utils import shuffle"
   ]
  },
  {
   "cell_type": "code",
   "execution_count": 154,
   "metadata": {},
   "outputs": [],
   "source": [
    "def y2indicator(y,K):\n",
    "    N = len(y)\n",
    "    indicator = np.zeros((N,K))\n",
    "    for i in range(N):\n",
    "        indicator[i, y[i]] = 1\n",
    "    return indicator"
   ]
  },
  {
   "cell_type": "code",
   "execution_count": 155,
   "metadata": {},
   "outputs": [],
   "source": [
    "def get_data(s):\n",
    "    df = pd.read_csv(s)\n",
    "    #data = df.as_matrix()\n",
    "    data = df.values\n",
    "    \n",
    "    X = data[:,:-1]\n",
    "    Y = data[:,-1]\n",
    "    \n",
    "    # normalize the numerical column\n",
    "    X[:,1] = (X[:,1] - X[:,1].mean())/X[:,1].std()\n",
    "    X[:,2] = (X[:,2] - X[:,2].mean())/X[:,2].std()\n",
    "    \n",
    "    #number of samples = N\n",
    "    #number of inputs = D\n",
    "    N, D = X.shape\n",
    "    X2 = np.zeros((N, D + 3))\n",
    "    X2[:,0:(D-1)] = X[:,0:(D-1)]\n",
    "    \n",
    "    for n in range(N):\n",
    "        t = int(X[n,D-1])\n",
    "        X2[n, t+D-1] = 1\n",
    "        X = X2\n",
    "    return X, Y"
   ]
  },
  {
   "cell_type": "code",
   "execution_count": 156,
   "metadata": {},
   "outputs": [],
   "source": [
    "def softmax(a):\n",
    "    expA = np.exp(a)\n",
    "    return expA / expA.sum(axis = 1, keepdims=True)"
   ]
  },
  {
   "cell_type": "code",
   "execution_count": 157,
   "metadata": {},
   "outputs": [],
   "source": [
    "def forward(X, W1, b1, W2, b2):\n",
    "    Z = np.tanh(X.dot(W1) + b1)\n",
    "    return softmax(Z.dot(W2) + b2) , Z"
   ]
  },
  {
   "cell_type": "code",
   "execution_count": 158,
   "metadata": {},
   "outputs": [],
   "source": [
    "def predict(P_Y_given_X):\n",
    "    return np.argmax(P_Y_given_X, axis=1)"
   ]
  },
  {
   "cell_type": "code",
   "execution_count": 159,
   "metadata": {},
   "outputs": [],
   "source": [
    "#get the accurracy \n",
    "def classification_rate(Y, P):\n",
    "    return np.mean(Y == P)"
   ]
  },
  {
   "cell_type": "code",
   "execution_count": 160,
   "metadata": {},
   "outputs": [],
   "source": [
    "def cross_entropy_cost(T, pY):\n",
    "    return -np.mean(T*np.log(pY))"
   ]
  },
  {
   "cell_type": "code",
   "execution_count": 161,
   "metadata": {},
   "outputs": [],
   "source": [
    "def derivative_w2(Z, T, Y):\n",
    "    N, K = T.shape\n",
    "    M = Z.shape[1]\n",
    "    \n",
    "    return Z.T.dot(T-Y)\n",
    "\n",
    "def derivative_b2(T,Y):\n",
    "    return(T-Y).sum(axis=0)"
   ]
  },
  {
   "cell_type": "code",
   "execution_count": 162,
   "metadata": {},
   "outputs": [],
   "source": [
    "def derivative_w1(X, Z, T, Y, W2):\n",
    "    N, D = X.shape\n",
    "    M, K = W2.shape\n",
    "    dZ = (T-Y).dot(W2.T) * Z *(1-Z)\n",
    "    ret2 = X.T.dot(dZ)\n",
    "    return ret2\n",
    "\n",
    "def derivative_b1(T, Y, W2, Z):\n",
    "    return ((T-Y).dot(W2.T)*Z*(1-Z)).sum(axis=0)"
   ]
  },
  {
   "cell_type": "code",
   "execution_count": 163,
   "metadata": {},
   "outputs": [],
   "source": [
    "X, Y = get_data('data.csv')\n",
    "X, Y = shuffle(X, Y)\n",
    "Y = Y.astype(np.int32)\n",
    "M = 5\n",
    "D = X.shape[1] # number of input units (8) \n",
    "K = len(set(Y)) #number of classes (4)\n",
    "\n",
    "Xtrain = X[:-100]\n",
    "Ytrain = Y[:-100]\n",
    "Ytrain_ind = y2indicator(Ytrain, K)\n",
    "Xtest = X[-100:]\n",
    "Ytest = Y[-100:]\n",
    "Ytest_ind = y2indicator(Ytest, K)\n",
    "W1 = np.random.randn(D,M)\n",
    "b1 = np.zeros(M)\n",
    "W2 = np.random.randn(M,K)\n",
    "b2 = np.zeros(K)"
   ]
  },
  {
   "cell_type": "code",
   "execution_count": 164,
   "metadata": {},
   "outputs": [
    {
     "name": "stdout",
     "output_type": "stream",
     "text": [
      "0 0.5611908338827536 0.5774470426655349\n",
      "1000 0.13171712953565107 0.1449350014636445\n",
      "2000 0.12120159087487119 0.13827278798956674\n",
      "3000 0.10667484703668678 0.1287544811755728\n",
      "4000 0.10638621155603391 0.12595242128218861\n",
      "5000 0.10621229103388678 0.12181252308909685\n",
      "6000 0.10241941590325411 0.11878232638307208\n",
      "7000 0.09876955353531869 0.11455828388499505\n",
      "8000 0.09576314298425587 0.11184913792973634\n",
      "9000 0.09296337708239352 0.1167437136028654\n",
      "Final train classiffication rate: 0.83\n",
      "Final test Classification rate: 0.8\n"
     ]
    },
    {
     "data": {
      "image/png": "[encoded data removed]",
      "text/plain": [
       "<Figure size 432x288 with 1 Axes>"
      ]
     },
     "metadata": {
      "needs_background": "light"
     },
     "output_type": "display_data"
    }
   ],
   "source": [
    "train_cost = []\n",
    "test_cost = []\n",
    "learning_rate = 0.001\n",
    "for i in range(10000):\n",
    "    pYtrain, Ztrain = forward(Xtrain, W1, b1, W2, b2)\n",
    "    pYtest, Ztest = forward(Xtest, W1, b1, W2, b2)\n",
    "    \n",
    "    ctrain = cross_entropy_cost(Ytrain_ind, pYtrain)\n",
    "    ctest = cross_entropy_cost(Ytest_ind, pYtest)\n",
    "    train_cost.append(ctrain)\n",
    "    test_cost.append(ctest)\n",
    "    \n",
    "    W2 -= learning_rate*derivative_w2(Ztrain, pYtrain, Ytrain_ind)\n",
    "    b2 -= learning_rate*derivative_b2(pYtrain, Ytrain_ind)\n",
    "    # T = pYtrain\n",
    "    # Y = Ytrain_ind\n",
    "    W1 -= learning_rate*derivative_w1(Xtrain, Ztrain, pYtrain, Ytrain_ind, W2)\n",
    "    b1 -= learning_rate*derivative_b1(pYtrain, Ytrain_ind, W2, Ztrain)\n",
    "    \n",
    "    if i % 1000 == 0:\n",
    "        print(i, ctrain, ctest)\n",
    "\n",
    "print(\"Final train classiffication rate:\", classification_rate(Ytrain, predict(pYtrain)))\n",
    "print(\"Final test Classification rate:\", classification_rate(Ytest, predict(pYtest)))\n",
    "\n",
    "legend1, = plt.plot(train_cost, label = 'train cost')\n",
    "legend2, = plt.plot(test_cost, label = 'test cost')\n",
    "plt.legend([legend1,legend2])\n",
    "plt.show()"
   ]
  }
 ],
 "metadata": {
  "kernelspec": {
   "display_name": "Python 3",
   "language": "python",
   "name": "python3"
  },
  "language_info": {
   "codemirror_mode": {
    "name": "ipython",
    "version": 3
   },
   "file_extension": ".py",
   "mimetype": "text/x-python",
   "name": "python",
   "nbconvert_exporter": "python",
   "pygments_lexer": "ipython3",
   "version": "3.7.1"
  }
 },
 "nbformat": 4,
 "nbformat_minor": 2
}
